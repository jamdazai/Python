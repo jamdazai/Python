{
  "nbformat": 4,
  "nbformat_minor": 0,
  "metadata": {
    "colab": {
      "provenance": []
    },
    "kernelspec": {
      "name": "python3",
      "display_name": "Python 3"
    },
    "language_info": {
      "name": "python"
    }
  },
  "cells": [
    {
      "cell_type": "code",
      "source": [
        "# Make an empty array of employees\n",
        "employee_list = []"
      ],
      "metadata": {
        "id": "edHQoITi-SZJ"
      },
      "execution_count": 1,
      "outputs": []
    },
    {
      "cell_type": "code",
      "source": [
        "# NOTE: WE NEED TO FOLLOW THESE RULES IN OUR \"CREATE EMPLOYEE PAGE\"\n",
        "# 1.) Employee ID is unique within the list\n",
        "# 2.) Employee Discount is unique within the list\n",
        "# 3.) Null/empty value is not allowed for any of the fields\n",
        "# 4.) Input must be number for Employee ID, Years Worked, and Employee Discount Number\n",
        "# 5.) Input must be “hourly” or “manager” for Employee Type\n",
        "# 6.) Input is not required for Total Purchased and Total Discounts when the employee is first created in the system, these fields should be assigned with a default value of 0."
      ],
      "metadata": {
        "id": "jTJNpwxlEnE_"
      },
      "execution_count": 7,
      "outputs": []
    },
    {
      "cell_type": "code",
      "source": [
        "# Function to check for UNIQUE EMPLOYEE ID\n",
        "def is_unique_employeeID(employee_list, new_employee_id):\n",
        "  return all(employee[0] != new_employee_id for employee in employee_list)"
      ],
      "metadata": {
        "id": "HfBvqCWzFhvd"
      },
      "execution_count": 8,
      "outputs": []
    },
    {
      "cell_type": "code",
      "source": [
        "# Function to check for UNIQUE DISCOUNT NUMBER\n",
        "def is_unique_discount_number(employee_list, new_discount_id):\n",
        "  return all(employee[6] != new_discount_id for employee in employee_list)"
      ],
      "metadata": {
        "id": "Mcjs8rmJHGfG"
      },
      "execution_count": 9,
      "outputs": []
    },
    {
      "cell_type": "code",
      "source": [
        "# Function for not to allow NULL / EMPTY values.\n",
        "def get_valid_input(prompt_message):\n",
        "  while True:\n",
        "    user_input = input(prompt_message)\n",
        "    if user_input:\n",
        "      return user_input\n",
        "    print(\"This field cannot be empty! Please try again.\")"
      ],
      "metadata": {
        "id": "-oRuxvbHHn3z"
      },
      "execution_count": 10,
      "outputs": []
    },
    {
      "cell_type": "code",
      "source": [
        "# Function that defines input to be a number for Employee ID, Years Worked and Employee Discount Number\n",
        "def get_valid_number(prompt_message):\n",
        "    while True:\n",
        "        user_input = input(prompt_message)\n",
        "        if user_input.isdigit():\n",
        "            return int(user_input)\n",
        "        print(\"Invalid input! Please enter a valid integer.\")"
      ],
      "metadata": {
        "id": "X9Ji6yN6NLvh"
      },
      "execution_count": 11,
      "outputs": []
    },
    {
      "cell_type": "code",
      "source": [
        "# Function to define the employee time whether it's HOURLY or MANAGER\n",
        "def get_valid_type(prompt_message, valid_type):\n",
        "  while True:\n",
        "    user_input = input(prompt_message)\n",
        "    if user_input in valid_type:\n",
        "      return user_input\n",
        "    print(\"Invalid input! Please provide appropriate values.\")"
      ],
      "metadata": {
        "id": "Mdcz7NRzNwnb"
      },
      "execution_count": 12,
      "outputs": []
    },
    {
      "cell_type": "code",
      "source": [
        "# Structure on printing employees\n",
        "def display_employees():\n",
        "  print(\"\\n\\n\" + \"All Employee Summary\")\n",
        "  print(\"| Employee ID | Employee Name | Employee Type | Years Worked | Total Purchased | Total Discounts | Employee Discount Number |\")\n",
        "  print(\"-------------------------------------------------------------------------------------------------------------------\")\n",
        "\n",
        "  if not employee_list:\n",
        "    print(\"No employee's information available.\")\n",
        "  else:\n",
        "    for employee in employee_list:\n",
        "      print(str(employee[0]) + \", \" + employee[1] + \", \" + employee[2] + \", \" + str(employee[3])\n",
        "                + \", \" + str(employee[4]) + \", \" + str(employee[5])+ \", \" + str(employee[6]))"
      ],
      "metadata": {
        "id": "JnkmbLP6-gzx"
      },
      "execution_count": 46,
      "outputs": []
    },
    {
      "cell_type": "code",
      "source": [
        "# Now, create the function on how we can make the employee and we will call it create_employee()\n",
        "def create_employee():\n",
        "    is_continue = True\n",
        "    print(\"Create Employee Page\" + \"\\n\\n\")\n",
        "\n",
        "    while is_continue:\n",
        "        employee_id = get_valid_number(\"Enter Employee ID: \")                                   # Employee ID\n",
        "        while not is_unique_employeeID(employee_list, employee_id):                             # Check if the Employee ID is unique\n",
        "            print(\"Employee ID must be unique. Please try again.\")\n",
        "            employee_id = get_valid_number(\"Enter Employee ID: \")\n",
        "\n",
        "        employee_name = get_valid_input(\"Enter Employee Name: \")                                # Employee Name\n",
        "        valid_type = ['Hourly', 'hourly', 'HOURLY', 'Manager', 'manager', 'MANAGER']            # Valid type for our Employee\n",
        "        employee_type = get_valid_type(\"Enter Employee Type: \", valid_type)                     # Hourly / Manager\n",
        "        employee_years_worked = get_valid_number(\"Enter Employee Total Years Working: \")\n",
        "\n",
        "                                                                                                # Input is not required for TOTAL PURCHASE IF EMPLOYEE IS FIRST CREATED IN THE SYSTEM.\n",
        "                                                                                                # Default value will be 0\n",
        "        try:\n",
        "          employee_total_purchase = int(input(\"Enter Employee Total Purchased: \"))         # Default value 0\n",
        "        except ValueError:\n",
        "          print(\"You provided nothing. Default value will be 0\")\n",
        "        try:\n",
        "          employee_total_discount = int(input(\"Enter Employee's Total Discount: \"))        # Default value 0\n",
        "        except ValueError:\n",
        "          print(\"You provided nothing. Default value will be 0\")\n",
        "\n",
        "        employee_discount_number = get_valid_number(\"Enter Employee's Discount Number: \")       # Employee Discount Number\n",
        "        while not is_unique_discount_number(employee_list, employee_discount_number):           # Check if the Discount Number is unique\n",
        "            print(\"Discount Number must be unique. Please try again.\")\n",
        "            employee_discount_number = get_valid_number(\"Enter Employee's Discount Number: \")\n",
        "\n",
        "        employee = [employee_id, employee_name, employee_type, employee_years_worked, 0, 0, employee_discount_number]     # Insert the employee to the array\n",
        "        employee_list.append(employee)                                                                                                                                # Add it.\n",
        "        print(\"Employee successfully added!\")\n",
        "\n",
        "        user_input = input(\"Do you still want to add an employee? (YES/NO): \")                  # Ask the user if they still want to add another employee\n",
        "        if user_input.upper() == \"NO\":\n",
        "          break"
      ],
      "metadata": {
        "id": "WJ-fkBS8V2FT"
      },
      "execution_count": 20,
      "outputs": []
    },
    {
      "cell_type": "code",
      "source": [
        "create_employee()"
      ],
      "metadata": {
        "colab": {
          "base_uri": "https://localhost:8080/"
        },
        "id": "G-67K01boSlx",
        "outputId": "fa3aa7b7-b8b7-4f6e-c895-bba121b4a65f"
      },
      "execution_count": 24,
      "outputs": [
        {
          "name": "stdout",
          "output_type": "stream",
          "text": [
            "Create Employee Page\n",
            "\n",
            "\n",
            "Enter Employee ID: 1\n",
            "Enter Employee Name: John\n",
            "Enter Employee Type: Hourly\n",
            "Enter Employee Total Years Working: 3\n",
            "Enter Employee Total Purchased: \n",
            "You provided nothing. Default value will be 0\n",
            "Enter Employee's Total Discount: \n",
            "You provided nothing. Default value will be 0\n",
            "Enter Employee's Discount Number: 11220\n",
            "Employee successfully added!\n",
            "Do you still want to add an employee? (YES/NO): no\n"
          ]
        }
      ]
    },
    {
      "cell_type": "code",
      "source": [
        "# Now, let's create the Item Page."
      ],
      "metadata": {
        "id": "akqKqQ67VRRT"
      },
      "execution_count": 25,
      "outputs": []
    },
    {
      "cell_type": "code",
      "source": [
        "# Make an empty array of Item List\n",
        "item_list = []"
      ],
      "metadata": {
        "id": "3uSsspeiVZ8g"
      },
      "execution_count": 28,
      "outputs": []
    },
    {
      "cell_type": "code",
      "source": [
        "# NOTE: WE NEED TO FOLLOW THESE RULES IN OUR \"CREATE EMPLOYEE PAGE\"\n",
        "# 1.) Item Number is unique within the list\n",
        "# 2.) Null/empty value is not allowed for any of the fields\n",
        "# 3.) Input must be number for Item Number and Item Cost"
      ],
      "metadata": {
        "id": "nTtu4FScYT1D"
      },
      "execution_count": 29,
      "outputs": []
    },
    {
      "cell_type": "code",
      "source": [
        "# Function to check for UNIQUE ITEM NUMBER of Item List\n",
        "def is_unique_itemNumber(item_list, new_itemNumber):\n",
        "  return all(item[0] != new_itemNumber for item in item_list)"
      ],
      "metadata": {
        "id": "hI6OZTS8Y60g"
      },
      "execution_count": 30,
      "outputs": []
    },
    {
      "cell_type": "code",
      "source": [
        "# Function to display items.\n",
        "def display_items():\n",
        "  print(\"All Items Summary\" + \"\\n\")\n",
        "\n",
        "  if not item_list:\n",
        "    print(\"| Item Number | Item Name | Cost |\")\n",
        "    print(\"----------------------------------\")\n",
        "    print(\"No available items.\")                              # Print this if we don't have items yet.\n",
        "  else:\n",
        "    print(\"| Item Number | Item Name | Cost |\")\n",
        "    print(\"----------------------------------\")\n",
        "    for item in item_list:\n",
        "      print(str(item[0]) + \", \" + item[1] + \", \" + str(item[2]))"
      ],
      "metadata": {
        "id": "FFsP7yGKrxYy"
      },
      "execution_count": 45,
      "outputs": []
    },
    {
      "cell_type": "code",
      "source": [
        "def create_item():\n",
        "  is_continue = True\n",
        "  print(\"Create Item Page\" + \"\\n\\n\")\n",
        "  while is_continue:\n",
        "    item_number = get_valid_number(\"Enter Item Number: \")                 # Item Number\n",
        "    while not is_unique_itemNumber(item_list, item_number):               # Check if the provided Item Number is unique and also a valid number/digit.\n",
        "      print(\"Employee ID must be unique. Please try again.\")              # Also, use the get_valid_number() function to check for valid number/digit.\n",
        "      item_number = get_valid_number(\"Enter Item Number: \")\n",
        "\n",
        "    item_name = get_valid_input(\"Enter the name of the item: \")           # Use the previous function get_valid_input to prevent the user in leaving NULL/EMPTY values.\n",
        "    item_cost = get_valid_number(\"Enter the cost of the item: \")          # Use the get_valid_number() to secure valid number/digit input.\n",
        "\n",
        "    item = [item_number, item_name, item_cost]\n",
        "    item_list.append(item)                                                # Add the new item to the array\n",
        "\n",
        "    user_input = input(\"Do you still want to add an item? (YES/NO): \")\n",
        "    if user_input.upper() == \"NO\":\n",
        "      is_continue = False"
      ],
      "metadata": {
        "id": "ja-dYfDAZZ7A"
      },
      "execution_count": 35,
      "outputs": []
    },
    {
      "cell_type": "code",
      "source": [
        "# Now let's make the Purchase Page.\n",
        "def make_purchase_page():\n",
        "    while True:\n",
        "        print(\"| Item Number | Item Name | Cost |\")\n",
        "        print(\"----------------------------------\")\n",
        "        for item in item_list:\n",
        "            print(str(item[0]) + \", \" + item[1] + \", \" + str(item[2]))\n",
        "\n",
        "        while True:\n",
        "            employee_discount_number = get_valid_number(\"Enter Employee's Discount Number: \")             # Ask for the employee discount number\n",
        "            employee = next((emp for emp in employee_list if emp[6] == employee_discount_number), None)   # Find the employee.\n",
        "\n",
        "            if employee:\n",
        "                print(f\"\\nEmployee Information:\\n{employee}\\n\")\n",
        "                break\n",
        "            else:\n",
        "                print(\"Invalid employee discount number. Please try again.\")\n",
        "\n",
        "        while True:\n",
        "            item_number = get_valid_number(\"Enter Item Number to purchase: \")   # Ask for the item number to purchase.\n",
        "            item = next((i for i in item_list if i[0] == item_number), None)    # Find the item.\n",
        "\n",
        "            if item:\n",
        "                purchase_cost = item[2]\n",
        "\n",
        "                if employee[2].lower() == 'manager':                            # Apply employee discount\n",
        "                    purchase_cost *= (1 - 0.1)                                  # 10% Additional Discount for Managers on top of 2% yearly discount\n",
        "                elif employee[2].lower() == 'hourly':\n",
        "                    max_discount = 0.1                                          # 10% maximum discount for hourly employees\n",
        "                    yearly_discount = min(employee[3] * 0.02, max_discount)     # 2% discount per year for hourly employees\n",
        "                    purchase_cost *= (1 - yearly_discount)\n",
        "\n",
        "                if employee[5] + purchase_cost > 200:                           # Check if the total discount exceeds $200\n",
        "                  purchase_cost = 0                                             # No further discount beyond $200\n",
        "                else:\n",
        "                  employee[5] += purchase_cost\n",
        "\n",
        "                employee[4] += purchase_cost                                    # Update employee's total purchase and total discount\n",
        "                employee[5] += item[2]\n",
        "\n",
        "                print(f\"\\nPurchase successful!\\nTotal Cost: {purchase_cost}\\nTotal Purchased by Employee: {employee[4]}\\nTotal Discount for Employee: {employee[5]}\\n\")\n",
        "                break\n",
        "            else:\n",
        "                print(\"Invalid item number. Please try again.\")                 # Item not found.\n",
        "\n",
        "        another_purchase = input(\"Another purchase? (YES/NO): \")\n",
        "        if another_purchase.upper() != \"YES\":\n",
        "          display_employees()\n",
        "          go_to_menu = input(\"Do you want to go back to Main Menu? (YES/NO)\")\n",
        "          if go_to_menu.upper() == \"YES\":\n",
        "            print(\"Returning to Main Menu.\")\n",
        "            break\n",
        "          else:\n",
        "            break"
      ],
      "metadata": {
        "id": "zphkXsJid_zz"
      },
      "execution_count": 38,
      "outputs": []
    },
    {
      "cell_type": "code",
      "source": [
        "# Create a menu"
      ],
      "metadata": {
        "id": "Gh5eYymAjjMD"
      },
      "execution_count": 39,
      "outputs": []
    },
    {
      "cell_type": "code",
      "source": [
        "def menu():\n",
        "  print(\"--------------------------------\")\n",
        "  print(\"| 1 - Create Employee          |\")\n",
        "  print(\"| 2 - Create Item              |\")\n",
        "  print(\"| 3 - Make Purchase            |\")\n",
        "  print(\"| 4 - All Employee Summary     |\")\n",
        "  print(\"| 5 - Exit                     |\")\n",
        "  print(\"--------------------------------\")"
      ],
      "metadata": {
        "id": "HXAqRlOJkyo1"
      },
      "execution_count": 40,
      "outputs": []
    },
    {
      "cell_type": "code",
      "source": [
        "def create_employee():\n",
        "    is_continue = True\n",
        "\n",
        "    while is_continue:\n",
        "        employee_id = get_valid_number(\"Enter Employee ID: \")\n",
        "\n",
        "        # Check if the Employee ID is unique\n",
        "        while not is_unique_employeeID(employee_list, employee_id):\n",
        "            print(\"Employee ID must be unique. Please try again.\")\n",
        "            employee_id = get_valid_number(\"Enter Employee ID: \")\n",
        "\n",
        "        employee_name = get_valid_input(\"Enter Employee Name: \")\n",
        "        valid_type = ['Hourly', 'hourly', 'HOURLY', 'Manager', 'manager', 'MANAGER']\n",
        "        employee_type = get_valid_type(\"Enter Employee Type: \", valid_type)\n",
        "        employee_years_worked = get_valid_number(\"Enter Employee Total Years Working: \")\n",
        "        try:\n",
        "          employee_total_purchase = int(input(\"Enter Employee Total Purchased: \"))\n",
        "        except ValueError:\n",
        "          print(\"You provided nothing. Default value will be 0\")\n",
        "        try:\n",
        "          employee_total_discount = int(input(\"Enter Employee's Total Discount: \"))\n",
        "        except ValueError:\n",
        "          print(\"You provided nothing. Default value will be 0\")\n",
        "        employee_discount_number = get_valid_number(\"Enter Employee's Discount Number: \")\n",
        "        # Check if the Discount Number is unique\n",
        "        while not is_unique_discount_number(employee_list, employee_discount_number):\n",
        "            print(\"Discount Number must be unique. Please try again.\")\n",
        "            employee_discount_number = get_valid_number(\"Enter Employee's Discount Number: \")\n",
        "\n",
        "        employee = [employee_id, employee_name, employee_type, employee_years_worked, 0, 0, employee_discount_number]\n",
        "        employee_list.append(employee)\n",
        "        print(\"Employee successfully added!\")\n",
        "\n",
        "        user_input = input(\"Do you still want to add an employee? (YES/NO): \")\n",
        "        if user_input.upper() == \"NO\":\n",
        "            break"
      ],
      "metadata": {
        "id": "jDrYMZu3CwP4"
      },
      "execution_count": 18,
      "outputs": []
    },
    {
      "cell_type": "code",
      "source": [
        "create_employee()"
      ],
      "metadata": {
        "colab": {
          "base_uri": "https://localhost:8080/"
        },
        "id": "n1dJaOD0o9I2",
        "outputId": "41e8c95a-5eec-4b2f-9400-8321d41cf523"
      },
      "execution_count": 19,
      "outputs": [
        {
          "name": "stdout",
          "output_type": "stream",
          "text": [
            "Enter Employee ID: 2\n",
            "Enter Employee Name: Nami\n",
            "Enter Employee Type: Hourly\n",
            "Enter Employee Total Years Working: 3\n",
            "Enter Employee Total Purchased: \n",
            "You provided nothing. Default value will be 0\n",
            "Enter Employee's Total Discount: \n",
            "You provided nothing. Default value will be 0\n",
            "Enter Employee's Discount Number: 3212\n",
            "Employee successfully added!\n",
            "Do you still want to add an employee? (YES/NO): no\n"
          ]
        }
      ]
    },
    {
      "cell_type": "code",
      "source": [
        "def main():\n",
        "    while True:\n",
        "      menu()\n",
        "      choice = input(\"Enter your choice (1-5): \")\n",
        "\n",
        "      if choice == \"1\":\n",
        "        create_employee()\n",
        "        go_to_menu = input(\"Do you want to go back to Main Menu? (YES/NO)\")\n",
        "        if go_to_menu.upper() != \"YES\":\n",
        "          print(\"Exiting the program. Goodbye!\")\n",
        "          break\n",
        "      elif choice == \"2\":\n",
        "        create_item()\n",
        "        go_to_menu = input(\"Do you want to go back to Main Menu? (YES/NO)\")\n",
        "        if go_to_menu.upper() != \"YES\":\n",
        "          print(\"Exiting the program. Goodbye!\")\n",
        "          break\n",
        "      elif choice == \"3\":\n",
        "        make_purchase_page()\n",
        "      elif choice == \"4\":\n",
        "        display_employees()\n",
        "        go_to_menu = input(\"Do you want to go back to Main Menu? (YES/NO)\")\n",
        "        if go_to_menu.upper() != \"YES\":\n",
        "          break\n",
        "      elif choice == \"5\":\n",
        "        print(\"Exiting the program. Goodbye!\")\n",
        "        break\n",
        "      else:\n",
        "        print(\"Invalid choice. Please enter a valid option (1-5).\")\n",
        "\n",
        "\n",
        "if __name__ == \"__main__\":\n",
        "    main()"
      ],
      "metadata": {
        "id": "UmzzR3KzIbQu",
        "colab": {
          "base_uri": "https://localhost:8080/"
        },
        "outputId": "f72e518f-82e0-4a2f-f36c-dcabd2d6d447"
      },
      "execution_count": 52,
      "outputs": [
        {
          "output_type": "stream",
          "name": "stdout",
          "text": [
            "--------------------------------\n",
            "| 1 - Create Employee          |\n",
            "| 2 - Create Item              |\n",
            "| 3 - Make Purchase            |\n",
            "| 4 - All Employee Summary     |\n",
            "| 5 - Exit                     |\n",
            "--------------------------------\n",
            "Enter your choice (1-5): 5\n",
            "Exiting the program. Goodbye!\n"
          ]
        }
      ]
    }
  ]
}