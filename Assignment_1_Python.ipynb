{
  "nbformat": 4,
  "nbformat_minor": 0,
  "metadata": {
    "colab": {
      "provenance": []
    },
    "kernelspec": {
      "name": "python3",
      "display_name": "Python 3"
    },
    "language_info": {
      "name": "python"
    }
  },
  "cells": [
    {
      "cell_type": "code",
      "execution_count": 1,
      "metadata": {
        "id": "F0BDgeRs9Y7d"
      },
      "outputs": [],
      "source": [
        "# Student Name: Jam Furaque"
      ]
    },
    {
      "cell_type": "code",
      "source": [
        "# Lab Professor : Maziar Sojoudian"
      ],
      "metadata": {
        "id": "zNmRA2R_ZXcm"
      },
      "execution_count": 2,
      "outputs": []
    },
    {
      "cell_type": "code",
      "source": [
        "# Make an empty array of employees"
      ],
      "metadata": {
        "id": "r-SGqPCy96Bo"
      },
      "execution_count": 3,
      "outputs": []
    },
    {
      "cell_type": "code",
      "source": [
        "employee_list = []"
      ],
      "metadata": {
        "id": "edHQoITi-SZJ"
      },
      "execution_count": 4,
      "outputs": []
    },
    {
      "cell_type": "code",
      "source": [
        "# Make a structure on printing employees"
      ],
      "metadata": {
        "id": "nGPZGirN-c44"
      },
      "execution_count": 5,
      "outputs": []
    },
    {
      "cell_type": "code",
      "source": [
        "def display_employees():\n",
        "  print(\"\\n\\n\" + \"All Employee Summary\")\n",
        "  print(\"| Employee ID | Employee Name | Employee Type | Years Worked | Total Purchased | Total Discounts | Employee Discount Number |\")\n",
        "  print(\"-------------------------------------------------------------------------------------------------------------------\")\n",
        "  for employee in employee_list:\n",
        "    print(str(employee[0]) + \", \" + employee[1] + \", \" + employee[2] + \", \" + str(employee[3])\n",
        "              + \", \" + str(employee[4]) + \", \" + str(employee[5])+ \", \" + str(employee[6]))"
      ],
      "metadata": {
        "id": "JnkmbLP6-gzx"
      },
      "execution_count": 6,
      "outputs": []
    },
    {
      "cell_type": "code",
      "source": [
        "# Creating Employee"
      ],
      "metadata": {
        "id": "CGcKNYF9_CB5"
      },
      "execution_count": 7,
      "outputs": []
    },
    {
      "cell_type": "code",
      "source": [
        "def create_employee():\n",
        "  is_continue = True\n",
        "  while is_continue:\n",
        "    employee_id = int(input(\"Enter Employee ID: \"))\n",
        "    employee_name = input(\"Enter Employee Name: \")\n",
        "    employee_type = input(\"Enter Employee Type: \")\n",
        "    employee_years_worked = int(input(\"Enter Employee Total Years Working: \"))\n",
        "    employee_total_purchase = int(input(\"Enter Employee Total Purchased: \"))\n",
        "    employee_total_discount = int(input(\"Enter Employee's Total Discount: \"))\n",
        "    employee_discount_number = int(input(\"Enter Employee's Discount Number: \"))\n",
        "\n",
        "    employee = [employee_id, employee_name, employee_type, employee_years_worked, 0, 0, employee_discount_number]\n",
        "    employee_list.append(employee)\n",
        "    print(\"Employee successfully added!\")\n",
        "\n",
        "    user_input = input(\"Do you still want to add an employee? (YES/NO): \")\n",
        "    if user_input == \"NO\":\n",
        "      is_continue = False"
      ],
      "metadata": {
        "id": "6WtWbwaCDZu6"
      },
      "execution_count": 8,
      "outputs": []
    },
    {
      "cell_type": "code",
      "source": [
        "create_employee()"
      ],
      "metadata": {
        "colab": {
          "base_uri": "https://localhost:8080/"
        },
        "id": "IGWzjhc9DbXV",
        "outputId": "8f061bfc-67e2-4e4c-a080-8c18a23c9a03"
      },
      "execution_count": 9,
      "outputs": [
        {
          "name": "stdout",
          "output_type": "stream",
          "text": [
            "Enter Employee ID: 1\n",
            "Enter Employee Name: Kaido\n",
            "Enter Employee Type: Hourly\n",
            "Enter Employee Total Years Working: 3\n",
            "Enter Employee Total Purchased: 0\n",
            "Enter Employee's Total Discount: 0\n",
            "Enter Employee's Discount Number: 11220\n",
            "Employee successfully added!\n",
            "Do you still want to add an employee? (YES/NO): NO\n"
          ]
        }
      ]
    },
    {
      "cell_type": "code",
      "source": [
        "# Check if we have the employee"
      ],
      "metadata": {
        "id": "POVYAPohDn2X"
      },
      "execution_count": 10,
      "outputs": []
    },
    {
      "cell_type": "code",
      "source": [
        "display_employees()"
      ],
      "metadata": {
        "colab": {
          "base_uri": "https://localhost:8080/"
        },
        "id": "2GZxrdsxDqJ_",
        "outputId": "591d9091-fb90-4e9f-a90f-46a688db32f5"
      },
      "execution_count": 11,
      "outputs": [
        {
          "output_type": "stream",
          "name": "stdout",
          "text": [
            "\n",
            "\n",
            "All Employee Summary\n",
            "| Employee ID | Employee Name | Employee Type | Years Worked | Total Purchased | Total Discounts | Employee Discount Number |\n",
            "-------------------------------------------------------------------------------------------------------------------\n",
            "1, Kaido, Hourly, 3, 0, 0, 11220\n"
          ]
        }
      ]
    },
    {
      "cell_type": "code",
      "source": [
        "# Now, lets apply these rules:\n",
        "# Employee ID is unique within the list\n",
        "# Employee Discount is unique within the list\n",
        "# Null/empty value is not allowed for any of the fields"
      ],
      "metadata": {
        "id": "jTJNpwxlEnE_"
      },
      "execution_count": 12,
      "outputs": []
    },
    {
      "cell_type": "code",
      "source": [
        "# Function to check for UNIQUE EMPLOYEE ID\n",
        "def is_unique_employeeID(employee_list, new_employee_id):\n",
        "  return all(employee[0] != new_employee_id for employee in employee_list)"
      ],
      "metadata": {
        "id": "HfBvqCWzFhvd"
      },
      "execution_count": 13,
      "outputs": []
    },
    {
      "cell_type": "code",
      "source": [
        "# Function to check for UNIQUE DISCOUNT NUMBER\n",
        "def is_unique_discount_number(employee_list, new_discount_id):\n",
        "  return all(employee[6] != new_discount_id for employee in employee_list)"
      ],
      "metadata": {
        "id": "Mcjs8rmJHGfG"
      },
      "execution_count": 14,
      "outputs": []
    },
    {
      "cell_type": "code",
      "source": [
        "# Function for not to allow NULL / EMPTY values.\n",
        "def get_valid_input(prompt_message):\n",
        "  while True:\n",
        "    user_input = input(prompt_message)\n",
        "    if user_input:\n",
        "      return user_input\n",
        "    print(\"This field cannot be empty! Please try again.\")"
      ],
      "metadata": {
        "id": "-oRuxvbHHn3z"
      },
      "execution_count": 15,
      "outputs": []
    },
    {
      "cell_type": "code",
      "source": [
        "def create_employee():\n",
        "    is_continue = True\n",
        "\n",
        "    while is_continue:\n",
        "        employee_id = int(get_valid_input(\"Enter Employee ID: \"))\n",
        "\n",
        "        # Check if the Employee ID is unique\n",
        "        while not is_unique_employeeID(employee_list, employee_id):\n",
        "            print(\"Employee ID must be unique. Please try again.\")\n",
        "            employee_id = int(get_valid_input(\"Enter Employee ID: \"))\n",
        "\n",
        "        employee_name = get_valid_input(\"Enter Employee Name: \")\n",
        "        employee_type = get_valid_input(\"Enter Employee Type: \")\n",
        "        employee_years_worked = int(get_valid_input(\"Enter Employee Total Years Working: \"))\n",
        "        employee_total_purchase = int(get_valid_input(\"Enter Employee Total Purchased: \"))\n",
        "        employee_total_discount = int(get_valid_input(\"Enter Employee's Total Discount: \"))\n",
        "        employee_discount_number = int(get_valid_input(\"Enter Employee's Discount Number: \"))\n",
        "        # Check if the Discount Number is unique\n",
        "        while not is_unique_discount_number(employee_list, employee_discount_number):\n",
        "            print(\"Discount Number must be unique. Please try again.\")\n",
        "            employee_discount_number = int(get_valid_input(\"Enter Employee's Discount Number: \"))\n",
        "\n",
        "        employee = [employee_id, employee_name, employee_type, employee_years_worked, 0, 0, employee_discount_number]\n",
        "        employee_list.append(employee)\n",
        "        print(\"Employee successfully added!\")\n",
        "\n",
        "        user_input = input(\"Do you still want to add an employee? (YES/NO): \")\n",
        "        if user_input.upper() == \"NO\":\n",
        "            is_continue = False"
      ],
      "metadata": {
        "id": "DgpDCbbxIEu4"
      },
      "execution_count": 16,
      "outputs": []
    },
    {
      "cell_type": "code",
      "source": [
        "# Now let's check if we met these rules:\n",
        "# Employee ID is unique within the list\n",
        "# Employee Discount is unique within the list\n",
        "# Null/empty value is not allowed for any of the fields\n",
        "create_employee()"
      ],
      "metadata": {
        "colab": {
          "base_uri": "https://localhost:8080/"
        },
        "id": "8WsFU7gmKpki",
        "outputId": "36350fbe-fc2e-456b-95e6-5963444be2ad"
      },
      "execution_count": 17,
      "outputs": [
        {
          "name": "stdout",
          "output_type": "stream",
          "text": [
            "Enter Employee ID: 1\n",
            "Employee ID must be unique. Please try again.\n",
            "Enter Employee ID: 2\n",
            "Enter Employee Name: \n",
            "This field cannot be empty! Please try again.\n",
            "Enter Employee Name: King\n",
            "Enter Employee Type: \n",
            "This field cannot be empty! Please try again.\n",
            "Enter Employee Type: Manager\n",
            "Enter Employee Total Years Working: 6\n",
            "Enter Employee Total Purchased: 0\n",
            "Enter Employee's Total Discount: 0\n",
            "Enter Employee's Discount Number: 11220\n",
            "Discount Number must be unique. Please try again.\n",
            "Enter Employee's Discount Number: 11221\n",
            "Employee successfully added!\n",
            "Do you still want to add an employee? (YES/NO): NO\n"
          ]
        }
      ]
    },
    {
      "cell_type": "code",
      "source": [
        "display_employees()"
      ],
      "metadata": {
        "colab": {
          "base_uri": "https://localhost:8080/"
        },
        "id": "mTdKhLHyMtSJ",
        "outputId": "5c930c2b-4d9c-4607-861e-cb20361bb38d"
      },
      "execution_count": 18,
      "outputs": [
        {
          "output_type": "stream",
          "name": "stdout",
          "text": [
            "\n",
            "\n",
            "All Employee Summary\n",
            "| Employee ID | Employee Name | Employee Type | Years Worked | Total Purchased | Total Discounts | Employee Discount Number |\n",
            "-------------------------------------------------------------------------------------------------------------------\n",
            "1, Kaido, Hourly, 3, 0, 0, 11220\n",
            "2, King, Manager, 6, 0, 0, 11221\n"
          ]
        }
      ]
    },
    {
      "cell_type": "code",
      "source": [
        "# Now, let's meet the expectations of these rules:\n",
        "# •\tInput must be number for Employee ID, Years Worked, and Employee Discount Number\n",
        "# •\tInput must be “hourly” or “manager” for Employee Type\n",
        "# •\tInput is not required for Total Purchased and Total Discounts when the employee is first created in the system, these fields should be assigned with a default value of 0."
      ],
      "metadata": {
        "id": "kvBWwt2VM7K0"
      },
      "execution_count": 19,
      "outputs": []
    },
    {
      "cell_type": "code",
      "source": [
        "# Function that defines input must be a number for Employee ID, Years Worked and Employee Discount Number\n",
        "def get_valid_number(prompt_message):\n",
        "    while True:\n",
        "        user_input = input(prompt_message)\n",
        "        if user_input.isdigit():\n",
        "            return int(user_input)\n",
        "        print(\"Invalid input! Please enter a valid integer.\")"
      ],
      "metadata": {
        "id": "X9Ji6yN6NLvh"
      },
      "execution_count": 20,
      "outputs": []
    },
    {
      "cell_type": "code",
      "source": [
        "# Function to define the employee time whether it's HOURLY or MANAGER\n",
        "def get_valid_type(prompt_message, valid_type):\n",
        "  while True:\n",
        "    user_input = input(prompt_message)\n",
        "    if user_input in valid_type:\n",
        "      return user_input\n",
        "    print(\"Invalid input! Please provide appropriate values.\")"
      ],
      "metadata": {
        "id": "Mdcz7NRzNwnb"
      },
      "execution_count": 21,
      "outputs": []
    },
    {
      "cell_type": "code",
      "source": [
        "def create_employee():\n",
        "    is_continue = True\n",
        "\n",
        "    while is_continue:\n",
        "        employee_id = get_valid_number(\"Enter Employee ID: \")\n",
        "\n",
        "        # Check if the Employee ID is unique\n",
        "        while not is_unique_employeeID(employee_list, employee_id):\n",
        "            print(\"Employee ID must be unique. Please try again.\")\n",
        "            employee_id = get_valid_number(\"Enter Employee ID: \")\n",
        "\n",
        "        employee_name = get_valid_input(\"Enter Employee Name: \")\n",
        "        valid_type = ['Hourly', 'hourly', 'HOURLY', 'Manager', 'manager', 'MANAGER']\n",
        "        employee_type = get_valid_type(\"Enter Employee Type: \", valid_type)\n",
        "        employee_years_worked = get_valid_number(\"Enter Employee Total Years Working: \")\n",
        "        try:\n",
        "          employee_total_purchase = int(input(\"Enter Employee Total Purchased: \"))\n",
        "        except ValueError:\n",
        "          print(\"You provided nothing. Default value will be 0\")\n",
        "        try:\n",
        "          employee_total_discount = int(input(\"Enter Employee's Total Discount: \"))\n",
        "        except ValueError:\n",
        "          print(\"You provided nothing. Default value will be 0\")\n",
        "        employee_discount_number = get_valid_number(\"Enter Employee's Discount Number: \")\n",
        "        # Check if the Discount Number is unique\n",
        "        while not is_unique_discount_number(employee_list, employee_discount_number):\n",
        "            print(\"Discount Number must be unique. Please try again.\")\n",
        "            employee_discount_number = get_valid_number(\"Enter Employee's Discount Number: \")\n",
        "\n",
        "        employee = [employee_id, employee_name, employee_type, employee_years_worked, 0, 0, employee_discount_number]\n",
        "        employee_list.append(employee)\n",
        "        print(\"Employee successfully added!\")\n",
        "\n",
        "        user_input = input(\"Do you still want to add an employee? (YES/NO): \")\n",
        "        if user_input.upper() == \"NO\":\n",
        "            is_continue = False"
      ],
      "metadata": {
        "id": "U-ssTWElOBHl"
      },
      "execution_count": 22,
      "outputs": []
    },
    {
      "cell_type": "code",
      "source": [
        "# Check if we met the conditions:\n",
        "# •\tInput must be number for Employee ID, Years Worked, and Employee Discount Number\n",
        "# •\tInput must be “hourly” or “manager” for Employee Type\n",
        "# •\tInput is not required for Total Purchased and Total Discounts\n",
        "#   when the employee is first created in the system, these fields should be assigned with a default value of 0.\n",
        "create_employee()"
      ],
      "metadata": {
        "colab": {
          "base_uri": "https://localhost:8080/"
        },
        "id": "5K3Z6prDP3jS",
        "outputId": "89b69a54-c5b8-4515-ae41-e5edf44fbd50"
      },
      "execution_count": 23,
      "outputs": [
        {
          "name": "stdout",
          "output_type": "stream",
          "text": [
            "Enter Employee ID: aa\n",
            "Invalid input! Please enter a valid integer.\n",
            "Enter Employee ID: 3\n",
            "Enter Employee Name: Nami\n",
            "Enter Employee Type: Part-Time\n",
            "Invalid input! Please provide appropriate values.\n",
            "Enter Employee Type: Hourly\n",
            "Enter Employee Total Years Working: \n",
            "Invalid input! Please enter a valid integer.\n",
            "Enter Employee Total Years Working: 6\n",
            "Enter Employee Total Purchased: \n",
            "You provided nothing. Default value will be 0\n",
            "Enter Employee's Total Discount: \n",
            "You provided nothing. Default value will be 0\n",
            "Enter Employee's Discount Number: 11223\n",
            "Employee successfully added!\n",
            "Do you still want to add an employee? (YES/NO): no\n"
          ]
        }
      ]
    },
    {
      "cell_type": "code",
      "source": [
        "display_employees()"
      ],
      "metadata": {
        "colab": {
          "base_uri": "https://localhost:8080/"
        },
        "id": "UJyTU4fJTsmD",
        "outputId": "715dd62b-2ff8-4345-fdcb-68b78187982c"
      },
      "execution_count": 24,
      "outputs": [
        {
          "output_type": "stream",
          "name": "stdout",
          "text": [
            "\n",
            "\n",
            "All Employee Summary\n",
            "| Employee ID | Employee Name | Employee Type | Years Worked | Total Purchased | Total Discounts | Employee Discount Number |\n",
            "-------------------------------------------------------------------------------------------------------------------\n",
            "1, Kaido, Hourly, 3, 0, 0, 11220\n",
            "2, King, Manager, 6, 0, 0, 11221\n",
            "3, Nami, Hourly, 6, 0, 0, 11223\n"
          ]
        }
      ]
    },
    {
      "cell_type": "code",
      "source": [
        "def create_employee():\n",
        "    is_continue = True\n",
        "    print(\"Create Employee Page\" + \"\\n\\n\")\n",
        "    while is_continue:\n",
        "        employee_id = get_valid_number(\"Enter Employee ID: \")\n",
        "\n",
        "        # Check if the Employee ID is unique\n",
        "        while not is_unique_employeeID(employee_list, employee_id):\n",
        "            print(\"Employee ID must be unique. Please try again.\")\n",
        "            employee_id = get_valid_number(\"Enter Employee ID: \")\n",
        "\n",
        "        employee_name = get_valid_input(\"Enter Employee Name: \")\n",
        "        valid_type = ['Hourly', 'hourly', 'HOURLY', 'Manager', 'manager', 'MANAGER']\n",
        "        employee_type = get_valid_type(\"Enter Employee Type: \", valid_type)\n",
        "        employee_years_worked = get_valid_number(\"Enter Employee Total Years Working: \")\n",
        "        try:\n",
        "          employee_total_purchase = int(input(\"Enter Employee Total Purchased: \") or 0)\n",
        "        except ValueError:\n",
        "          print(\"You provided nothing. Default value will be 0\")\n",
        "        try:\n",
        "          employee_total_discount = int(input(\"Enter Employee's Total Discount: \") or 0)\n",
        "        except ValueError:\n",
        "          print(\"You provided nothing. Default value will be 0\")\n",
        "        employee_discount_number = get_valid_number(\"Enter Employee's Discount Number: \")\n",
        "        # Check if the Discount Number is unique\n",
        "        while not is_unique_discount_number(employee_list, employee_discount_number):\n",
        "            print(\"Discount Number must be unique. Please try again.\")\n",
        "            employee_discount_number = get_valid_number(\"Enter Employee's Discount Number: \")\n",
        "\n",
        "        employee = [employee_id, employee_name, employee_type, employee_years_worked, employee_total_purchase, employee_total_discount, employee_discount_number]\n",
        "        employee_list.append(employee)\n",
        "        print(\"Employee successfully added!\")\n",
        "\n",
        "        user_input = input(\"Do you still want to add an employee? (YES/NO): \")\n",
        "        if user_input.upper() == \"NO\":\n",
        "            is_continue = False"
      ],
      "metadata": {
        "id": "WJ-fkBS8V2FT"
      },
      "execution_count": 25,
      "outputs": []
    },
    {
      "cell_type": "code",
      "source": [
        "# Now, let's create the Item Page."
      ],
      "metadata": {
        "id": "akqKqQ67VRRT"
      },
      "execution_count": 26,
      "outputs": []
    },
    {
      "cell_type": "code",
      "source": [
        "item_list = []"
      ],
      "metadata": {
        "id": "3uSsspeiVZ8g"
      },
      "execution_count": 27,
      "outputs": []
    },
    {
      "cell_type": "code",
      "source": [
        "# Take note that we need to consider these restrictions:\n",
        "# Item Number is unique within the list\n",
        "#\tNull/empty value is not allowed for any of the fields\n",
        "#\tInput must be number for Item Number and Item Cost"
      ],
      "metadata": {
        "id": "nTtu4FScYT1D"
      },
      "execution_count": 28,
      "outputs": []
    },
    {
      "cell_type": "code",
      "source": [
        "# Function to check for UNIQUE ITEM NUMBER\n",
        "def is_unique_itemNumber(item_list, new_itemNumber):\n",
        "  return all(item[0] != new_itemNumber for item in item_list)"
      ],
      "metadata": {
        "id": "hI6OZTS8Y60g"
      },
      "execution_count": 29,
      "outputs": []
    },
    {
      "cell_type": "code",
      "source": [
        "def create_item():\n",
        "  is_continue = True\n",
        "  print(\"Create Item Page\" + \"\\n\\n\")\n",
        "  while is_continue:\n",
        "    item_number = get_valid_number(\"Enter Item Number: \")\n",
        "\n",
        "    while not is_unique_itemNumber(item_list, item_number):\n",
        "      print(\"Employee ID must be unique. Please try again.\")\n",
        "      item_number = get_valid_number(\"Enter Item Number: \")\n",
        "    item_name = get_valid_input(\"Enter the name of the item: \")\n",
        "    item_cost = get_valid_number(\"Enter the cost of the item: \")\n",
        "\n",
        "    item = [item_number, item_name, item_cost]\n",
        "    item_list.append(item)\n",
        "\n",
        "    user_input = input(\"Do you still want to add an item? (YES/NO): \")\n",
        "    if user_input.upper() == \"NO\":\n",
        "      is_continue = False"
      ],
      "metadata": {
        "id": "ja-dYfDAZZ7A"
      },
      "execution_count": 30,
      "outputs": []
    },
    {
      "cell_type": "code",
      "source": [
        "create_item()"
      ],
      "metadata": {
        "colab": {
          "base_uri": "https://localhost:8080/"
        },
        "id": "Is5ik-BGcHV4",
        "outputId": "8a1bebf3-9df4-4e1f-a98d-6059fe360c4f"
      },
      "execution_count": 31,
      "outputs": [
        {
          "name": "stdout",
          "output_type": "stream",
          "text": [
            "Create Item Page\n",
            "\n",
            "\n",
            "Enter Item Number: 11445\n",
            "Enter the name of the item: Nike Shoes\n",
            "Enter the cost of the item: 120\n",
            "Do you still want to add an item? (YES/NO): yes\n",
            "Enter Item Number: 11556\n",
            "Enter the name of the item: Adidas Yeezy\n",
            "Enter the cost of the item: 260\n",
            "Do you still want to add an item? (YES/NO): no\n"
          ]
        }
      ]
    },
    {
      "cell_type": "code",
      "source": [
        "def display_items():\n",
        "  print(\"All Items Summary\" + \"\\n\")\n",
        "  print(\"| Item Number | Item Name | Cost |\")\n",
        "  print(\"----------------------------------\")\n",
        "  for item in item_list:\n",
        "    print(str(item[0]) + \", \" + item[1] + \", \" + str(item[2]))"
      ],
      "metadata": {
        "id": "HAn0b8veckJp"
      },
      "execution_count": 32,
      "outputs": []
    },
    {
      "cell_type": "code",
      "source": [
        "display_items()"
      ],
      "metadata": {
        "colab": {
          "base_uri": "https://localhost:8080/"
        },
        "id": "Xgk3Bs-RdD3b",
        "outputId": "e9342a76-6a27-4f00-a5f0-1dacbdb0031b"
      },
      "execution_count": 33,
      "outputs": [
        {
          "output_type": "stream",
          "name": "stdout",
          "text": [
            "All Items Summary\n",
            "\n",
            "| Item Number | Item Name | Cost |\n",
            "----------------------------------\n",
            "11445, Nike Shoes, 120\n",
            "11556, Adidas Yeezy, 260\n"
          ]
        }
      ]
    },
    {
      "cell_type": "code",
      "source": [
        "def make_purchase_page():\n",
        "    while True:\n",
        "        print(\"| Item Number | Item Name | Cost |\")\n",
        "        print(\"----------------------------------\")\n",
        "        for item in item_list:\n",
        "            print(str(item[0]) + \", \" + item[1] + \", \" + str(item[2]))\n",
        "\n",
        "        while True:\n",
        "            employee_discount_number = get_valid_number(\"Enter Employee's Discount Number: \")\n",
        "\n",
        "            # Find the employee with the entered discount number\n",
        "            employee = next((emp for emp in employee_list if emp[6] == employee_discount_number), None)\n",
        "\n",
        "            if employee:\n",
        "                print(f\"\\nEmployee Information:\\n{employee}\\n\")\n",
        "                break\n",
        "            else:\n",
        "                print(\"Invalid employee discount number. Please try again.\")\n",
        "\n",
        "        while True:\n",
        "            item_number = get_valid_number(\"Enter Item Number to purchase: \")\n",
        "\n",
        "            # Find the item with the entered item number\n",
        "            item = next((i for i in item_list if i[0] == item_number), None)\n",
        "\n",
        "            if item:\n",
        "                purchase_cost = item[2]\n",
        "\n",
        "                if employee[2].lower() == 'manager':                    # Apply employee discount\n",
        "                    purchase_cost *= (1 - 0.1)                          # 10% Additional Discount for Managers\n",
        "                elif employee[2].lower() == 'hourly':\n",
        "                    purchase_cost *= (1 - (employee[3] * 0.02))         # 2% discount per year for hourly employees, max 10%\n",
        "\n",
        "                # Update employee's total purchase and total discount\n",
        "                employee[4] += purchase_cost\n",
        "                employee[5] += item[2]\n",
        "\n",
        "                print(f\"\\nPurchase successful!\\nTotal Cost: {purchase_cost}\\nTotal Purchased by Employee: {employee[4]}\\nTotal Discount for Employee: {employee[5]}\\n\")\n",
        "                break\n",
        "            else:\n",
        "                print(\"Invalid item number. Please try again.\")\n",
        "\n",
        "        another_purchase = input(\"Another purchase? (YES/NO): \")\n",
        "        if another_purchase.upper() != \"YES\":\n",
        "          display_employees()\n",
        "          go_to_menu = input(\"Do you want to go back to Main Menu? (YES/NO)\")\n",
        "          if go_to_menu.upper() == \"YES\":\n",
        "            print(\"Returning to Main Menu.\")\n",
        "            break\n",
        "          else:\n",
        "            break"
      ],
      "metadata": {
        "id": "zphkXsJid_zz"
      },
      "execution_count": 34,
      "outputs": []
    },
    {
      "cell_type": "code",
      "source": [
        "# Create a menu"
      ],
      "metadata": {
        "id": "Gh5eYymAjjMD"
      },
      "execution_count": 35,
      "outputs": []
    },
    {
      "cell_type": "code",
      "source": [
        "def menu():\n",
        "  print(\"--------------------------------\")\n",
        "  print(\"| 1 - Create Employee          |\")\n",
        "  print(\"| 2 - Create Item              |\")\n",
        "  print(\"| 3 - Make Purchase            |\")\n",
        "  print(\"| 4 - All Employee Summary     |\")\n",
        "  print(\"| 5 - Exit                     |\")\n",
        "  print(\"--------------------------------\")"
      ],
      "metadata": {
        "id": "HXAqRlOJkyo1"
      },
      "execution_count": 36,
      "outputs": []
    },
    {
      "cell_type": "code",
      "source": [
        "display_employees()"
      ],
      "metadata": {
        "colab": {
          "base_uri": "https://localhost:8080/"
        },
        "id": "79dXZY-ZmTp6",
        "outputId": "c5af6003-0a0a-471f-cf71-12b2e90e5a4b"
      },
      "execution_count": 37,
      "outputs": [
        {
          "output_type": "stream",
          "name": "stdout",
          "text": [
            "\n",
            "\n",
            "All Employee Summary\n",
            "| Employee ID | Employee Name | Employee Type | Years Worked | Total Purchased | Total Discounts | Employee Discount Number |\n",
            "-------------------------------------------------------------------------------------------------------------------\n",
            "1, Kaido, Hourly, 3, 0, 0, 11220\n",
            "2, King, Manager, 6, 0, 0, 11221\n",
            "3, Nami, Hourly, 6, 0, 0, 11223\n"
          ]
        }
      ]
    },
    {
      "cell_type": "code",
      "source": [
        "display_items()"
      ],
      "metadata": {
        "colab": {
          "base_uri": "https://localhost:8080/"
        },
        "id": "sXXer6iT24TQ",
        "outputId": "e286a562-8ef3-4124-d0a4-86fb4a85e667"
      },
      "execution_count": 38,
      "outputs": [
        {
          "output_type": "stream",
          "name": "stdout",
          "text": [
            "All Items Summary\n",
            "\n",
            "| Item Number | Item Name | Cost |\n",
            "----------------------------------\n",
            "11445, Nike Shoes, 120\n",
            "11556, Adidas Yeezy, 260\n"
          ]
        }
      ]
    },
    {
      "cell_type": "code",
      "source": [
        "def create_employee():\n",
        "    is_continue = True\n",
        "\n",
        "    while is_continue:\n",
        "        employee_id = get_valid_number(\"Enter Employee ID: \")\n",
        "\n",
        "        # Check if the Employee ID is unique\n",
        "        while not is_unique_employeeID(employee_list, employee_id):\n",
        "            print(\"Employee ID must be unique. Please try again.\")\n",
        "            employee_id = get_valid_number(\"Enter Employee ID: \")\n",
        "\n",
        "        employee_name = get_valid_input(\"Enter Employee Name: \")\n",
        "        valid_type = ['Hourly', 'hourly', 'HOURLY', 'Manager', 'manager', 'MANAGER']\n",
        "        employee_type = get_valid_type(\"Enter Employee Type: \", valid_type)\n",
        "        employee_years_worked = get_valid_number(\"Enter Employee Total Years Working: \")\n",
        "        try:\n",
        "          employee_total_purchase = int(input(\"Enter Employee Total Purchased: \"))\n",
        "        except ValueError:\n",
        "          print(\"You provided nothing. Default value will be 0\")\n",
        "        try:\n",
        "          employee_total_discount = int(input(\"Enter Employee's Total Discount: \"))\n",
        "        except ValueError:\n",
        "          print(\"You provided nothing. Default value will be 0\")\n",
        "        employee_discount_number = get_valid_number(\"Enter Employee's Discount Number: \")\n",
        "        # Check if the Discount Number is unique\n",
        "        while not is_unique_discount_number(employee_list, employee_discount_number):\n",
        "            print(\"Discount Number must be unique. Please try again.\")\n",
        "            employee_discount_number = get_valid_number(\"Enter Employee's Discount Number: \")\n",
        "\n",
        "        employee = [employee_id, employee_name, employee_type, employee_years_worked, 0, 0, employee_discount_number]\n",
        "        employee_list.append(employee)\n",
        "        print(\"Employee successfully added!\")\n",
        "\n",
        "        user_input = input(\"Do you still want to add an employee? (YES/NO): \")\n",
        "        if user_input.upper() == \"NO\":\n",
        "            break"
      ],
      "metadata": {
        "id": "jDrYMZu3CwP4"
      },
      "execution_count": 39,
      "outputs": []
    },
    {
      "cell_type": "code",
      "source": [
        "def main():\n",
        "    while True:\n",
        "      menu()\n",
        "      choice = input(\"Enter your choice (1-5): \")\n",
        "\n",
        "      if choice == \"1\":\n",
        "        create_employee()\n",
        "        go_to_menu = input(\"Do you want to go back to Main Menu? (YES/NO)\")\n",
        "        if go_to_menu.upper() != \"YES\":\n",
        "          print(\"Exiting the program. Goodbye!\")\n",
        "          break\n",
        "      elif choice == \"2\":\n",
        "        create_item()\n",
        "        go_to_menu = input(\"Do you want to go back to Main Menu? (YES/NO)\")\n",
        "        if go_to_menu.upper() != \"YES\":\n",
        "          print(\"Exiting the program. Goodbye!\")\n",
        "          break\n",
        "      elif choice == \"3\":\n",
        "        make_purchase_page()\n",
        "      elif choice == \"4\":\n",
        "        display_employees()\n",
        "        go_to_menu = input(\"Do you want to go back to Main Menu? (YES/NO)\")\n",
        "        if go_to_menu.upper() != \"YES\":\n",
        "          break\n",
        "      elif choice == \"5\":\n",
        "        print(\"Exiting the program. Goodbye!\")\n",
        "        break\n",
        "      else:\n",
        "        print(\"Invalid choice. Please enter a valid option (1-5).\")\n",
        "\n",
        "\n",
        "if __name__ == \"__main__\":\n",
        "    main()"
      ],
      "metadata": {
        "id": "UmzzR3KzIbQu",
        "colab": {
          "base_uri": "https://localhost:8080/"
        },
        "outputId": "b9dde97f-0f0a-44d1-95f7-17a9cb0b3a4c"
      },
      "execution_count": 40,
      "outputs": [
        {
          "name": "stdout",
          "output_type": "stream",
          "text": [
            "--------------------------------\n",
            "| 1 - Create Employee          |\n",
            "| 2 - Create Item              |\n",
            "| 3 - Make Purchase            |\n",
            "| 4 - All Employee Summary     |\n",
            "| 5 - Exit                     |\n",
            "--------------------------------\n",
            "Enter your choice (1-5): 4\n",
            "\n",
            "\n",
            "All Employee Summary\n",
            "| Employee ID | Employee Name | Employee Type | Years Worked | Total Purchased | Total Discounts | Employee Discount Number |\n",
            "-------------------------------------------------------------------------------------------------------------------\n",
            "1, Kaido, Hourly, 3, 0, 0, 11220\n",
            "2, King, Manager, 6, 0, 0, 11221\n",
            "3, Nami, Hourly, 6, 0, 0, 11223\n",
            "Do you want to go back to Main Menu? (YES/NO)no\n"
          ]
        }
      ]
    },
    {
      "cell_type": "code",
      "source": [
        "display_employees()"
      ],
      "metadata": {
        "colab": {
          "base_uri": "https://localhost:8080/"
        },
        "id": "yvNp538_Wqhr",
        "outputId": "fa89712e-382f-44f7-970f-c69ee09c7ef3"
      },
      "execution_count": 41,
      "outputs": [
        {
          "output_type": "stream",
          "name": "stdout",
          "text": [
            "\n",
            "\n",
            "All Employee Summary\n",
            "| Employee ID | Employee Name | Employee Type | Years Worked | Total Purchased | Total Discounts | Employee Discount Number |\n",
            "-------------------------------------------------------------------------------------------------------------------\n",
            "1, Kaido, Hourly, 3, 0, 0, 11220\n",
            "2, King, Manager, 6, 0, 0, 11221\n",
            "3, Nami, Hourly, 6, 0, 0, 11223\n"
          ]
        }
      ]
    },
    {
      "cell_type": "code",
      "source": [
        "display_items()"
      ],
      "metadata": {
        "colab": {
          "base_uri": "https://localhost:8080/"
        },
        "id": "Xh3Za4x_WsFS",
        "outputId": "774e9f0c-2896-4fdd-80af-6b5fb89a15d0"
      },
      "execution_count": 42,
      "outputs": [
        {
          "output_type": "stream",
          "name": "stdout",
          "text": [
            "All Items Summary\n",
            "\n",
            "| Item Number | Item Name | Cost |\n",
            "----------------------------------\n",
            "11445, Nike Shoes, 120\n",
            "11556, Adidas Yeezy, 260\n"
          ]
        }
      ]
    },
    {
      "cell_type": "code",
      "source": [
        "main()"
      ],
      "metadata": {
        "colab": {
          "base_uri": "https://localhost:8080/"
        },
        "id": "gmE64CmNW3Xi",
        "outputId": "ea20c15b-2100-4bcb-bfb4-a9c2908f4c4a"
      },
      "execution_count": null,
      "outputs": [
        {
          "output_type": "stream",
          "name": "stdout",
          "text": [
            "--------------------------------\n",
            "| 1 - Create Employee          |\n",
            "| 2 - Create Item              |\n",
            "| 3 - Make Purchase            |\n",
            "| 4 - All Employee Summary     |\n",
            "| 5 - Exit                     |\n",
            "--------------------------------\n",
            "Enter your choice (1-5): 4\n",
            "\n",
            "\n",
            "All Employee Summary\n",
            "| Employee ID | Employee Name | Employee Type | Years Worked | Total Purchased | Total Discounts | Employee Discount Number |\n",
            "-------------------------------------------------------------------------------------------------------------------\n",
            "1, Kaido, Hourly, 3, 0, 0, 11220\n",
            "2, King, Manager, 6, 234.0, 260, 11221\n",
            "3, Nami, Hourly, 6, 0, 0, 11223\n",
            "4, Luffy, hourly, 4, 0, 0, 33221\n"
          ]
        }
      ]
    }
  ]
}